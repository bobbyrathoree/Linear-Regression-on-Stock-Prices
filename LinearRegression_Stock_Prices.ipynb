{
 "cells": [
  {
   "cell_type": "code",
   "execution_count": 1,
   "metadata": {},
   "outputs": [
    {
     "name": "stdout",
     "output_type": "stream",
     "text": [
      "              Open    High     Low    Close      Volume  Ex-Dividend  \\\n",
      "Date                                                                   \n",
      "2004-08-19  100.01  104.06   95.96  100.335  44659000.0          0.0   \n",
      "2004-08-20  101.01  109.08  100.50  108.310  22834300.0          0.0   \n",
      "2004-08-23  110.76  113.48  109.05  109.400  18256100.0          0.0   \n",
      "2004-08-24  111.24  111.60  103.57  104.870  15247300.0          0.0   \n",
      "2004-08-25  104.76  108.00  103.88  106.000   9188600.0          0.0   \n",
      "\n",
      "            Split Ratio  Adj. Open  Adj. High   Adj. Low  Adj. Close  \\\n",
      "Date                                                                   \n",
      "2004-08-19          1.0  50.159839  52.191109  48.128568   50.322842   \n",
      "2004-08-20          1.0  50.661387  54.708881  50.405597   54.322689   \n",
      "2004-08-23          1.0  55.551482  56.915693  54.693835   54.869377   \n",
      "2004-08-24          1.0  55.792225  55.972783  51.945350   52.597363   \n",
      "2004-08-25          1.0  52.542193  54.167209  52.100830   53.164113   \n",
      "\n",
      "            Adj. Volume  \n",
      "Date                     \n",
      "2004-08-19   44659000.0  \n",
      "2004-08-20   22834300.0  \n",
      "2004-08-23   18256100.0  \n",
      "2004-08-24   15247300.0  \n",
      "2004-08-25    9188600.0  \n"
     ]
    }
   ],
   "source": [
    "import pandas as pd\n",
    "import quandl\n",
    "\n",
    "df = quandl.get('WIKI/GOOGL')\n",
    "\n",
    "print(df.head())"
   ]
  },
  {
   "cell_type": "code",
   "execution_count": 2,
   "metadata": {},
   "outputs": [
    {
     "name": "stdout",
     "output_type": "stream",
     "text": [
      "            Adj. Close  High_Low_PCT  Percent_Change  Adj. Volume\n",
      "Date                                                             \n",
      "2004-08-19   50.322842      3.712563        0.324968   44659000.0\n",
      "2004-08-20   54.322689      0.710922        7.227007   22834300.0\n",
      "2004-08-23   54.869377      3.729433       -1.227880   18256100.0\n",
      "2004-08-24   52.597363      6.417469       -5.726357   15247300.0\n",
      "2004-08-25   53.164113      1.886792        1.183658    9188600.0\n"
     ]
    }
   ],
   "source": [
    "df = df[['Adj. Open', 'Adj. High', 'Adj. Low', 'Adj. Close', 'Adj. Volume']]\n",
    "df['High_Low_PCT'] = (df['Adj. High'] - df['Adj. Close']) / df['Adj. Close'] * 100.0 # High Low %\n",
    "df['Percent_Change'] = (df['Adj. Close'] - df['Adj. Open']) / df['Adj. Open'] * 100.0 # % change in stock prices\n",
    "\n",
    "df = df[['Adj. Close', 'High_Low_PCT', 'Percent_Change', 'Adj. Volume']] # We only care about these features.\n",
    "\n",
    "print(df.head())"
   ]
  },
  {
   "cell_type": "code",
   "execution_count": 3,
   "metadata": {},
   "outputs": [
    {
     "name": "stdout",
     "output_type": "stream",
     "text": [
      "            Adj. Close  High_Low_PCT  Percent_Change  Adj. Volume      label\n",
      "Date                                                                        \n",
      "2004-08-19   50.322842      3.712563        0.324968   44659000.0  69.078238\n",
      "2004-08-20   54.322689      0.710922        7.227007   22834300.0  67.839414\n",
      "2004-08-23   54.869377      3.729433       -1.227880   18256100.0  68.912727\n",
      "2004-08-24   52.597363      6.417469       -5.726357   15247300.0  70.668146\n",
      "2004-08-25   53.164113      1.886792        1.183658    9188600.0  71.219849\n"
     ]
    }
   ],
   "source": [
    "import math\n",
    "\n",
    "forecast_column = 'Adj. Close'\n",
    "# To not waste data, we provide features with any null values with some outlier like -112233\n",
    "df.fillna(-112233, inplace=True) # na means not available, used to fill NaN/nan values\n",
    "how_many_days = int(math.ceil(0.01*len(df)))\n",
    "\n",
    "df['label'] = df[forecast_column].shift(-how_many_days)\n",
    "\n",
    "print(df.head())"
   ]
  },
  {
   "cell_type": "code",
   "execution_count": 4,
   "metadata": {},
   "outputs": [
    {
     "name": "stdout",
     "output_type": "stream",
     "text": [
      "3389 3389\n"
     ]
    }
   ],
   "source": [
    "import numpy as np\n",
    "from sklearn import preprocessing #for scaling data\n",
    "from sklearn.model_selection import train_test_split # for training and testing samples, splitting, shuffling\n",
    "from sklearn import svm # can use for regression\n",
    "from sklearn.linear_model import LinearRegression\n",
    "\n",
    "X = np.array(df.drop(['label'], axis=1)) # this 1 is axis, tells that we need to drop a 'column' named label\n",
    "\n",
    "\"\"\"The preprocessing.scale() algorithm puts your data on one scale. \n",
    "This is helpful with largely sparse datasets. In simple words, your data is vastly spread out. \n",
    "For example the values of X maybe like so:\n",
    "\n",
    "X = [1, 4, 400, 10000, 100000]\n",
    "\n",
    "The issue with sparsity is that it very biased or in statistical terms skewed. \n",
    "So, therefore, scaling the data brings all your values onto one scale eliminating the sparsity.\"\"\"\n",
    "\n",
    "X = preprocessing.scale(X)\n",
    "X_lately = X[-how_many_days:]\n",
    "X = X[:-how_many_days]\n",
    "# X = X[:-forecast_out+1]\n",
    "df.dropna(inplace=True)\n",
    "y = np.array(df['label'])\n",
    "\n",
    "print(len(X), len(y))"
   ]
  },
  {
   "cell_type": "code",
   "execution_count": 5,
   "metadata": {},
   "outputs": [],
   "source": [
    "X_train, X_test, y_train, y_test = train_test_split(X, y, test_size=0.2)\n",
    "clf = LinearRegression() # parameter n_jobs is 1 by default. Can increase to make it run faster: parallelism \n",
    "# can use n_jobs=-1 to make the most of what your processor can do.\n",
    "clf.fit(X_train, y_train)\n",
    "\n",
    "# pickling: good to have at disposal. pickle helps with serialization of a python object\n",
    "import pickle # used to save. We normally save after training data (fit) because that's the most tedious step\n",
    "\n",
    "# clf.fit(X_train, y_train): Used after this\n",
    "with open('LinearRegression.pickle', 'wb') as f:\n",
    "    pickle.dump(clf, f)\n",
    "    \n",
    "# To use the pickle files again\n",
    "pickle_in = open('LinearRegression.pickle', 'rb')\n",
    "clf = pickle.load(pickle_in)\n",
    "\n",
    "accuracy = clf.score(X_test, y_test)\n",
    "\n",
    "# print(accuracy)"
   ]
  },
  {
   "cell_type": "code",
   "execution_count": 6,
   "metadata": {},
   "outputs": [
    {
     "name": "stdout",
     "output_type": "stream",
     "text": [
      "Day 1 prediction: 1103.7964986716827\n",
      "Day 2 prediction: 1073.173029689525\n",
      "Day 3 prediction: 1020.0384427039558\n",
      "Day 4 prediction: 1061.998858357853\n",
      "Day 5 prediction: 1073.859892485616\n",
      "Day 6 prediction: 1074.2151552536247\n",
      "Day 7 prediction: 1093.0317853124025\n",
      "Day 8 prediction: 1112.0987006532398\n",
      "Day 9 prediction: 1115.3345754777952\n",
      "Day 10 prediction: 1123.5440765071774\n",
      "Day 11 prediction: 1132.836354905381\n",
      "Day 12 prediction: 1129.9927826002838\n",
      "Day 13 prediction: 1149.5675852734657\n",
      "Day 14 prediction: 1165.2428306335833\n",
      "Day 15 prediction: 1136.5683045701178\n",
      "Day 16 prediction: 1122.8799735667567\n",
      "Day 17 prediction: 1088.5369007561944\n",
      "Day 18 prediction: 1104.3082627048238\n",
      "Day 19 prediction: 1115.223058129196\n",
      "Day 20 prediction: 1121.901526669099\n",
      "Day 21 prediction: 1136.0948302515737\n",
      "Day 22 prediction: 1150.6262257863775\n",
      "Day 23 prediction: 1182.2485689699638\n",
      "Day 24 prediction: 1186.5280231204972\n",
      "Day 25 prediction: 1158.2473633859927\n",
      "Day 26 prediction: 1169.4404834314628\n",
      "Day 27 prediction: 1171.2683062144715\n",
      "Day 28 prediction: 1153.7981334524654\n",
      "Day 29 prediction: 1119.148900467576\n",
      "Day 30 prediction: 1115.6984967396852\n",
      "Day 31 prediction: 1113.6406044539422\n",
      "Day 32 prediction: 1070.5511396670065\n",
      "Day 33 prediction: 1043.031767389396\n",
      "Day 34 prediction: 1073.7043054480764\n",
      "Day 35 prediction: 1021.553544103951\n",
      "\n",
      "Accuracy: 97.74889445333422\n"
     ]
    }
   ],
   "source": [
    "stock_prediction = clf.predict(X_lately)\n",
    "\n",
    "for i in range(how_many_days):\n",
    "    print('Day {0} prediction: {1}'.format(i+1, stock_prediction[i]))\n",
    "    \n",
    "print('\\nAccuracy: {0}'.format(accuracy*100))"
   ]
  },
  {
   "cell_type": "code",
   "execution_count": 7,
   "metadata": {},
   "outputs": [
    {
     "data": {
      "image/png": "[encoded data removed]",
      "text/plain": [
       "<matplotlib.figure.Figure at 0x1a20010400>"
      ]
     },
     "metadata": {},
     "output_type": "display_data"
    }
   ],
   "source": [
    "import datetime\n",
    "import matplotlib.pyplot as plt\n",
    "from matplotlib import style\n",
    "\n",
    "df['Stock Forecast'] = np.nan\n",
    "\n",
    "last_date = df.iloc[-1].name # name of last date in dataset\n",
    "last_date_unix = last_date.timestamp()\n",
    "one_day_seconds = 86400\n",
    "next_date_unix = last_date_unix + one_day_seconds\n",
    "\n",
    "for i in stock_prediction:\n",
    "    next_date = datetime.datetime.fromtimestamp(next_date_unix)\n",
    "    next_date_unix += one_day_seconds\n",
    "    df.loc[next_date] = [np.nan for _ in range(len(df.columns)-1)] + [i]\n",
    "    \n",
    "df['Adj. Close'].plot()\n",
    "df['Stock Forecast'].plot()\n",
    "plt.legend(loc=4)\n",
    "plt.xlabel('Date')\n",
    "plt.ylabel('Price')\n",
    "plt.show()"
   ]
  }
 ],
 "metadata": {
  "kernelspec": {
   "display_name": "Python 3",
   "language": "python",
   "name": "python3"
  },
  "language_info": {
   "codemirror_mode": {
    "name": "ipython",
    "version": 3
   },
   "file_extension": ".py",
   "mimetype": "text/x-python",
   "name": "python",
   "nbconvert_exporter": "python",
   "pygments_lexer": "ipython3",
   "version": "3.6.3"
  }
 },
 "nbformat": 4,
 "nbformat_minor": 2
}
